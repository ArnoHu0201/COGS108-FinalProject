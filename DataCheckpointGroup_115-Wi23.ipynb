{
 "cells": [
  {
   "cell_type": "markdown",
   "metadata": {},
   "source": [
    "# COGS 108 - Data Checkpoint"
   ]
  },
  {
   "attachments": {},
   "cell_type": "markdown",
   "metadata": {},
   "source": [
    "# Names\n",
    "\n",
    "- Yandong Xiang\n",
    "- Siying Yang\n",
    "- Tianshi Hu\n",
    "- Zeyu Cao\n",
    "- Muqing Di"
   ]
  },
  {
   "cell_type": "markdown",
   "metadata": {},
   "source": [
    "<a id='background_n_prior__work'></a>\n",
    "# Background and Prior Work\n",
    "\n",
    "In California, lax gun control has led to crime in many areas. The focus of our group project is to investigate whether the crimes that occur in this particular place in Los Angeles are related to guns. We believe that after such data investigation and research, it can help the police, and even citizens, have a deeper understanding of the relationship between crime and guns.\n",
    "\n",
    "In our research, we found a strong correlation between crime and firearms in the Los Angeles area. Offenders tend to pull out guns and threaten victims when committing crimes. In the analysis database of the recent crime rate, we get that the relationship between the crime rate and guns in different regions is also different. Certain areas have higher rates of gun crime than others. Here are some references.\n",
    "\n",
    "References (include links):\n",
    "- Overall crime is up in L.A. for the second straight year, LAPD reports: https://www.latimes.com/local/california/la-me-lapd-crime-increase-20160722-snap-story.html\n",
    "- Gun Violence in California: https://maps.everytownresearch.org/wp-content/uploads/2020/04/Every-State-Fact-Sheet-2.0-042720-California.pdf\n"
   ]
  },
  {
   "cell_type": "markdown",
   "metadata": {},
   "source": [
    "<a id='research_question'></a>\n",
    "# Research Question"
   ]
  },
  {
   "attachments": {},
   "cell_type": "markdown",
   "metadata": {},
   "source": [
    "Our research question is under what circumstances are weapons likely to be used in criminal activity in Los Angelas? With variables such as crime type, victim sex, victim age, etc, we observe whether criminals are likely to use weapons under those circumstances. This research topic may help justify under what conditions should police draw their guns towards the criminals. Other possible(more specific) topic includes in what areas are weapons more likely to be used in Los Angelas, etc."
   ]
  },
  {
   "cell_type": "markdown",
   "metadata": {},
   "source": [
    "# Dataset(s)"
   ]
  },
  {
   "attachments": {},
   "cell_type": "markdown",
   "metadata": {},
   "source": [
    "- Dataset Name: Crime in Los Angeles\n",
    "- Link to the dataset: https://www.kaggle.com/datasets/cityofLA/crime-in-los-angeles?select=Crime_Data_2010_2017.csv\n",
    "- Number of observations: 1584316\n",
    "\n",
    "This dataset reflects incidents of crime in the City of Los Angeles dating back to 2010. This data is transcribed from original crime reports that are typed on paper and includes different aspects of crime information like time, location, crime type, weapon type, victom info, etc."
   ]
  },
  {
   "cell_type": "markdown",
   "metadata": {},
   "source": [
    "# Setup"
   ]
  },
  {
   "cell_type": "code",
   "execution_count": 2,
   "metadata": {},
   "outputs": [
    {
     "name": "stdout",
     "output_type": "stream",
     "text": [
      "   DR Number Date Reported Date Occurred  Time Occurred  Area ID    Area Name  \\\n",
      "0    1208575    03/14/2013    03/11/2013           1800       12  77th Street   \n",
      "1  102005556    01/25/2010    01/22/2010           2300       20      Olympic   \n",
      "2        418    03/19/2013    03/18/2013           2030       18    Southeast   \n",
      "3  101822289    11/11/2010    11/10/2010           1800       18    Southeast   \n",
      "4   42104479    01/11/2014    01/04/2014           2300       21      Topanga   \n",
      "\n",
      "   Reporting District  Crime Code                    Crime Code Description  \\\n",
      "0                1241         626         INTIMATE PARTNER - SIMPLE ASSAULT   \n",
      "1                2071         510                          VEHICLE - STOLEN   \n",
      "2                1823         510                          VEHICLE - STOLEN   \n",
      "3                1803         510                          VEHICLE - STOLEN   \n",
      "4                2133         745  VANDALISM - MISDEAMEANOR ($399 OR UNDER)   \n",
      "\n",
      "              MO Codes  ...                              Weapon Description  \\\n",
      "0  0416 0446 1243 2000  ...  STRONG-ARM (HANDS, FIST, FEET OR BODILY FORCE)   \n",
      "1                  NaN  ...                                             NaN   \n",
      "2                  NaN  ...                                             NaN   \n",
      "3                  NaN  ...                                             NaN   \n",
      "4                 0329  ...                                             NaN   \n",
      "\n",
      "  Status Code Status Description  Crime Code 1 Crime Code 2  Crime Code 3  \\\n",
      "0          AO        Adult Other         626.0          NaN           NaN   \n",
      "1          IC        Invest Cont         510.0          NaN           NaN   \n",
      "2          IC        Invest Cont         510.0          NaN           NaN   \n",
      "3          IC        Invest Cont         510.0          NaN           NaN   \n",
      "4          IC        Invest Cont         745.0          NaN           NaN   \n",
      "\n",
      "  Crime Code 4                                  Address Cross Street  \\\n",
      "0          NaN  6300    BRYNHURST                    AV          NaN   \n",
      "1          NaN                                 VAN NESS         15TH   \n",
      "2          NaN   200 E  104TH                        ST          NaN   \n",
      "3          NaN                                     88TH         WALL   \n",
      "4          NaN  7200    CIRRUS                       WY          NaN   \n",
      "\n",
      "              Location   \n",
      "0  (33.9829, -118.3338)  \n",
      "1  (34.0454, -118.3157)  \n",
      "2   (33.942, -118.2717)  \n",
      "3  (33.9572, -118.2717)  \n",
      "4  (34.2009, -118.6369)  \n",
      "\n",
      "[5 rows x 26 columns]\n",
      "1584316\n"
     ]
    }
   ],
   "source": [
    "import pandas as pd\n",
    "  \n",
    "# reading the CSV file\n",
    "csvFile = pd.read_csv('Crime_Data_2010_2017.csv') #The original file Crime_Data_2010_2017.csv is too large so stored in local, the randomly picked version is pushed to remote\n",
    "\n",
    "print(csvFile[:5])\n",
    "print(len(csvFile))"
   ]
  },
  {
   "cell_type": "markdown",
   "metadata": {},
   "source": [
    "# Data Cleaning"
   ]
  },
  {
   "attachments": {},
   "cell_type": "markdown",
   "metadata": {},
   "source": [
    "First, the original csv is too large for github to store, we want to randomly pick 500000 entries and write that to new csv file. The new csv file will be used for further investigation."
   ]
  },
  {
   "cell_type": "code",
   "execution_count": 12,
   "metadata": {},
   "outputs": [],
   "source": [
    "csvFile = csvFile.sample(500000)\n",
    "\n",
    "csvFile.to_csv('Crime_Data_2010_2017_random_picked.csv')"
   ]
  },
  {
   "cell_type": "code",
   "execution_count": 13,
   "metadata": {},
   "outputs": [
    {
     "name": "stdout",
     "output_type": "stream",
     "text": [
      "500000\n"
     ]
    }
   ],
   "source": [
    "print(len(csvFile))"
   ]
  },
  {
   "attachments": {},
   "cell_type": "markdown",
   "metadata": {},
   "source": [
    "\n",
    "Second, we want to just keep the necessary columns for our research question, which would include clearly 'Weapon Used Code'/'Weapon Description', and other variables that we hypothesised to affect weapon use, which are 'Area ID'/'Area Name', 'Crime Code'/'Crime Code Description', and victom informations including 'Victim Age', 'Victim Sex'. We want to investigate the relationship between weapon use and area, crime, victim separately, so three new dataframes created."
   ]
  },
  {
   "cell_type": "code",
   "execution_count": 14,
   "metadata": {},
   "outputs": [],
   "source": [
    "\n",
    "weaponToArea = csvFile[['Weapon Used Code',\n",
    " 'Weapon Description','Area ID',\n",
    " 'Area Name']]\n",
    "weaponToCrime = csvFile[['Weapon Used Code',\n",
    " 'Weapon Description','Crime Code',\n",
    " 'Crime Code Description']]\n",
    "weaponToVictim = csvFile[['Weapon Used Code',\n",
    " 'Weapon Description', 'Victim Age',\n",
    " 'Victim Sex']]"
   ]
  },
  {
   "cell_type": "code",
   "execution_count": 15,
   "metadata": {},
   "outputs": [
    {
     "name": "stdout",
     "output_type": "stream",
     "text": [
      "['Weapon Used Code', 'Weapon Description', 'Area ID', 'Area Name']\n",
      "['Weapon Used Code', 'Weapon Description', 'Crime Code', 'Crime Code Description']\n",
      "['Weapon Used Code', 'Weapon Description', 'Victim Age', 'Victim Sex']\n"
     ]
    }
   ],
   "source": [
    "print(weaponToArea.columns.values.tolist())\n",
    "print(weaponToCrime.columns.values.tolist())\n",
    "print(weaponToVictim.columns.values.tolist())"
   ]
  }
 ],
 "metadata": {
  "kernelspec": {
   "display_name": "Python 3",
   "language": "python",
   "name": "python3"
  },
  "language_info": {
   "codemirror_mode": {
    "name": "ipython",
    "version": 3
   },
   "file_extension": ".py",
   "mimetype": "text/x-python",
   "name": "python",
   "nbconvert_exporter": "python",
   "pygments_lexer": "ipython3",
   "version": "3.9.2"
  },
  "vscode": {
   "interpreter": {
    "hash": "34ecbcc624deb315bd6d97516c9e0b42e756d57c66ea7465b980abfd662a6a03"
   }
  }
 },
 "nbformat": 4,
 "nbformat_minor": 2
}
