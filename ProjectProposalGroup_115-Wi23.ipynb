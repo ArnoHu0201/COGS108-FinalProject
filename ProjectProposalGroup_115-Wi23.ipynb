{
 "cells": [
  {
   "cell_type": "markdown",
   "metadata": {},
   "source": [
    "# COGS 108 - Final Project Proposal"
   ]
  },
  {
   "attachments": {},
   "cell_type": "markdown",
   "metadata": {},
   "source": [
    "# Names\n",
    "\n",
    "- Yandong Xiang\n",
    "- Siying Yang\n",
    "- Tianshi Hu\n",
    "- Zeyu Cao\n",
    "- Muqing Di"
   ]
  },
  {
   "cell_type": "markdown",
   "metadata": {},
   "source": [
    "# Research Question"
   ]
  },
  {
   "attachments": {},
   "cell_type": "markdown",
   "metadata": {},
   "source": [
    "\n",
    "What is your research question? Include the specific question you're setting out to answer. This question should be specific, answerable with data, and clear. A general question with specific subquestions is permitted. (1-2 sentences)\n",
    "\n",
    "Our research question is under what circumstances are weapons likely to be used in criminal activity in Los Angelas? With variables such as crime type, victim sex, victim age, etc, we observe whether criminals are likely to use weapons under those circumstances. This research topic may help justify under what conditions should police draw their guns towards the criminals. Other possible(more specific) topic includes in what areas are weapons more likely to be used in Los Angelas, etc.\n",
    "\n"
   ]
  },
  {
   "cell_type": "markdown",
   "metadata": {},
   "source": [
    "## Background and Prior Work"
   ]
  },
  {
   "cell_type": "markdown",
   "metadata": {},
   "source": [
    "\n",
    "- Include a general introduction to your topic\n",
    "- Include explanation of what work has been done previously\n",
    "- Include citations or links to previous work\n",
    "\n",
    "This section will present the background and context of your topic and question in a few paragraphs. Include a general introduction to your topic and then describe what information you currently know about the topic after doing your initial research. Include references to other projects who have asked similar questions or approached similar problems. Explain what others have learned in their projects.\n",
    "\n",
    "Find some relevant prior work, and reference those sources, summarizing what each did and what they learned. Even if you think you have a totally novel question, find the most similar prior work that you can and discuss how it relates to your project.\n",
    "\n",
    "References can be research publications, but they need not be. Blogs, GitHub repositories, company websites, etc., are all viable references if they are relevant to your project. It must be clear which information comes from which references. (2-3 paragraphs, including at least 2 references)\n",
    "\n",
    " **Use inline citation through Markdown footnotes to specify which references support which statements** \n",
    "\n",
    "In California, lax gun control has led to crime in many areas. The focus of our group project is to investigate whether the crimes that occur in this particular place in Los Angeles are related to guns. We believe that after such data investigation and research, it can help the police, and even citizens, have a deeper understanding of the relationship between crime and guns.\n",
    "\n",
    "In our research, we found a strong correlation between crime and firearms in the Los Angeles area. Offenders tend to pull out guns and threaten victims when committing crimes. In the analysis database of the recent crime rate, we get that the relationship between the crime rate and guns in different regions is also different. Certain areas have higher rates of gun crime than others. Here are some references.\n",
    "\n",
    "References (include links):\n",
    "- Overall crime is up in L.A. for the second straight year, LAPD reports: https://www.latimes.com/local/california/la-me-lapd-crime-increase-20160722-snap-story.html\n",
    "- Gun Violence in California: https://maps.everytownresearch.org/wp-content/uploads/2020/04/Every-State-Fact-Sheet-2.0-042720-California.pdf\n"
   ]
  },
  {
   "cell_type": "markdown",
   "metadata": {},
   "source": [
    "# Hypothesis\n"
   ]
  },
  {
   "attachments": {},
   "cell_type": "markdown",
   "metadata": {},
   "source": [
    "\n",
    "What is your main hypothesis/predictions about what the answer to your question is? Briefly explain your thinking. (2-3 sentences)\n",
    "\n",
    "We predict that weapons are more likely to be used in felony crimes, in areas with high crime rate, and against physically weaker people(excluding 18-60 years old males). We are predicting in this way because first, felony crimes are serious and violent and commonly the criminals need weapon in order to commit such crimes, and by similar reason crimes happening in areas with high crime rate have larger chance of happening more violent crimes. Second, since the dataset includes Strong Arm(HANDS, FIST, FEET OR BODILY FORCE) as a weapon and very likely the most common weapon, we predict physically weaker victims adds chance of weapon use since strong arm are likely used by physically stronger criminals. "
   ]
  },
  {
   "cell_type": "markdown",
   "metadata": {},
   "source": [
    "# Data"
   ]
  },
  {
   "attachments": {},
   "cell_type": "markdown",
   "metadata": {},
   "source": [
    "1. Explain what the **ideal** dataset you would want to answer this question. (This should include: What variables? How many observations? Who/what/how would these data be collected? How would these data be stored/organized?)\n",
    "   \n",
    "Ideal dataset include variables such as criminal type, area, and perhaps some information about the criminal or victims. At least over 10000 observations. Those data are the best when collected by government and hopefully can be directly found on kaggle.\n",
    "\n",
    "2. Search for potential **real** datasets that could provide you with something useful for this project.  You do not have to find every piece of data you will use, but you do need to have demonstrated some idea that (a) this data is gettable and (b) that this data may be different from what your ideal is\n",
    "   \n",
    "I did find a valid dataset provided by government in LA, and is collected and posted on Kaggle. link is: https://www.kaggle.com/datasets/cityofLA/crime-in-los-angeles. Title is Crime data from 2010 through September 2017. It has information regarding the crime type, district, date, victim information, and what weapons are used. Sadly, it did does not provide information on the criminals. But reasons maybe that it is illegal to provide information on the ciminals?"
   ]
  },
  {
   "cell_type": "markdown",
   "metadata": {},
   "source": [
    "# Ethics & Privacy"
   ]
  },
  {
   "cell_type": "markdown",
   "metadata": {},
   "source": [
    "- Thoughtful discussion of ethical concerns included\n",
    "- Ethical concerns consider the whole data science process (question asked, data collected, data being used, the bias in data, analysis, post-analysis, etc.)\n",
    "- How your group handled bias/ethical concerns clearly described\n",
    "\n",
    "Acknowledge and address any ethics & privacy related issues of your question(s), proposed dataset(s), and/or analyses. Use the information provided in lecture to guide your group discussion and thinking. If you need further guidance, check out [Deon's Ethics Checklist](http://deon.drivendata.org/#data-science-ethics-checklist). In particular:\n",
    "\n",
    "- Are there any biases/privacy/terms of use issues with the data you propsed?\n",
    "- Are there potential biases in your dataset(s), in terms of who it composes, and how it was collected, that may be problematic in terms of it allowing for equitable analysis? (For example, does your data exclude particular populations, or is it likely to reflect particular human biases in a way that could be a problem?)\n",
    "- How will you set out to detect these specific biases before, during, and after/when communicating your analysis?\n",
    "- Are there any other issues related to your topic area, data, and/or analyses that are potentially problematic in terms of data privacy and equitable impact?\n",
    "- How will you handle issues you identified?\n",
    "\n",
    "Ethics and privacy are critical considerations in the data science projects. As our project focused on the criminal activity in LA, there are many ethical concerns that can potentially involve in the project analysis. Ethics concerns consider the whole data science process involve the bias in data, data collected and used, and post analysis. For example, when analyzing the criminal activity data, it is extremely important to consider the potential biases in the data that could potentially impact the results. For example, certain neighborhoods or demographics may be overrepresented or underrepresented, that could skew the results of the data and make the data analysis results become biased. It is therefore important to account for these biases and ensure that the accurate analysis is as equitable as possible. In the dataset website we find, the dataset is expected to reflect the incidents of crime in the City of LA dating back to 2010. This data is transcribed from original crime reports and there may be inaccuracies within the data due to the inaccuracies within the original crime reports. Also, according to the website, some location fields with missing data are noted, this could cause the potential bias.\n", 
    "The privacy concerns involved in the data for criminal activity data may include sensitive personal information, such as victim names or addresses, which could potentially be used to identify the individuals. It is therefore extremely important to ensure that any personal identifying information is protected and that the data is used in a manner that respects an individual's privacy. The potential for harm is that analyzing the criminal activity data could potentially lead to harm or discrimination against certain populations or neighborhoods. It is therefore important to be mindful of these potential impacts and ensure that the analysis is conducted in an ethical and equitable manner. With respect to the policy implications, the results of the analysis could have important policy implications, such as decisions regarding police use of the force or resource allocation. It is important to ensure that these policy decisions are made in an ethical and equitable manner, by taking into account the potential impacts on the different populations. \n",
    "In order to address these concerns, we need to carefully review the crime data from the website and identify any potential biases or privacy concerns. We also need to take steps to ensure that the analysis is conducted in an ethical and equitable manner, such as accounting for any biases in the data, and being mindful of the potential impacts on the different populations to be transparent about the methods and findings."
   ]
  },
  {
   "cell_type": "markdown",
   "metadata": {},
   "source": [
    "# Team Expectations "
   ]
  },
  {
   "cell_type": "markdown",
   "metadata": {},
   "source": [
    "\n",
    "Read over the [COGS108 Team Policies](https://github.com/COGS108/Projects/blob/master/COGS108_TeamPolicies.md) individually. Then, include your group’s expectations of one another for successful completion of your COGS108 project below. Discuss and agree on what all of your expectations are. Discuss how your team will communicate throughout the quarter and consider how you will communicate respectfully should conflicts arise. By including each member’s name above and by adding their name to the submission, you are indicating that you have read the COGS108 Team Policies, accept your team’s expectations below, and have every intention to fulfill them. These expectations are for your team’s use and benefit — they won’t be graded for their details.\n",
    "\n",
    "* *We recognize that the project should consist of fair contribution from each one of our group members. Imbalance of workload or rejection of cooperation will be warned and even promoted to the instructor if necessary.*\n",
    "* *We should keep the project in mind and avoid accomplishing task in last minute. The project may be extremely creative and complex, which requires large amount of effort; even if we are only in charge of part of the entire project, we are supposed to start early on given task so that we may save enough time to discuss relative process as well as difficulties with groupmates. We shall also remain active in group chats so that we may remind others of the necessity of cooperation. Start early, start often! (Love from CSE department)*\n",
    "* *Upon each one of the tasks we encounter, we should discuss thoroughly about distribution of work before division of work. During the process, we should respect the expertise as well as deficiencies of each one of our groupmates. We expect to take advantage of everyone’s talent in a particular specialization, such as programming, data gathering, analysis of statistics, proposal writing, etc. After all, we shall still keep Expectation 1 in mind and won’t start on our own until we all agree on the division of work. *\n",
    "* ..."
   ]
  },
  {
   "cell_type": "markdown",
   "metadata": {},
   "source": [
    "# Project Timeline Proposal"
   ]
  },
  {
   "cell_type": "markdown",
   "metadata": {},
   "source": [
    "Specify your team's specific project timeline. An example timeline has been provided. Changes the dates, times, names, and details to fit your group's plan.\n",
    "\n",
    "If you think you will need any special resources or training outside what we have covered in COGS 108 to solve your problem, then your proposal should state these clearly. For example, if you have selected a problem that involves implementing multiple neural networks, please state this so we can make sure you know what you’re doing and so we can point you to resources you will need to implement your project. Note that you are not required to use outside methods.\n",
    "\n",
    "\n",
    "\n",
    "| Meeting Date  | Meeting Time| Completed Before Meeting  | Discuss at Meeting |\n",
    "|---|---|---|---|\n",
    "| 3/4  |  10 AM | Read & Think about COGS 108 expectations; brainstorm topics/questions  | conclude on what to use as the topic | \n",
    "| 3/5  |  8 PM  | Edit, finalize, and submit proposal; Search for datasets  | Discuss Wrangling and possible analytical approaches; Assign group members to lead each specific part   |\n",
    "| 3/6  | 10 AM  | Assign task; Import & Wrangle Data ; EDA | Review/Edit wrangling/EDA; Discuss Analysis Plan   |\n",
    "| 3/7  | 12 PM  | Finalize wrangling/EDA; Begin Analysis| Discuss/edit Analysis; Complete project check-in |\n",
    "| 3/9  | 12 PM  | Complete analysis; Draft results/conclusion/discussion| Discuss/edit full project |\n",
    "| 3/10  | Before 11:59 PM  | Finish editing | Turn in Final Project & Group Project Surveys |"
   ]
  },
  {
   "cell_type": "code",
   "execution_count": null,
   "metadata": {},
   "outputs": [],
   "source": []
  }
 ],
 "metadata": {
  "kernelspec": {
   "display_name": "Python 3",
   "language": "python",
   "name": "python3"
  },
  "language_info": {
   "codemirror_mode": {
    "name": "ipython",
    "version": 3
   },
   "file_extension": ".py",
   "mimetype": "text/x-python",
   "name": "python",
   "nbconvert_exporter": "python",
   "pygments_lexer": "ipython3",
   "version": "3.9.13"
  },
  "vscode": {
   "interpreter": {
    "hash": "1c49970426126ec7945ab2a83606e74034ecb79e50366b0de57f5a545e43883d"
   }
  }
 },
 "nbformat": 4,
 "nbformat_minor": 2
}
